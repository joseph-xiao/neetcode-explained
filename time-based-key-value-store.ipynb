{
 "cells": [
  {
   "attachments": {},
   "cell_type": "markdown",
   "metadata": {},
   "source": [
    "[Time Based Key-Value Store](https://leetcode.com/problems/time-based-key-value-store/)\n",
    "\n",
    "Design a time-based key-value data structure that can store multiple values for the same key at different time stamps and retrieve the key's value at a certain timestamp.\n",
    "\n",
    "Implement the `TimeMap` class:\n",
    "\n",
    "- `TimeMap()` Initializes the object of the data structure.\n",
    "- `void set(String key, String value, int timestamp)` Stores the key `key` with the value `value` at the given time `timestamp`.\n",
    "- `String get(String key, int timestamp)` Returns a value such that set was called previously, with `timestamp_prev <= timestamp`. If there are multiple such values, it returns the value associated with the largest `timestamp_prev`. If there are no values, it returns `\"\"`.\n",
    "\n",
    "Example 1:\n",
    "\n",
    "```\n",
    "Input\n",
    "[\"TimeMap\", \"set\", \"get\", \"get\", \"set\", \"get\", \"get\"]\n",
    "[[], [\"foo\", \"bar\", 1], [\"foo\", 1], [\"foo\", 3], [\"foo\", \"bar2\", 4], [\"foo\", 4], [\"foo\", 5]]\n",
    "Output\n",
    "[null, null, \"bar\", \"bar\", null, \"bar2\", \"bar2\"]\n",
    "\n",
    "Explanation\n",
    "TimeMap timeMap = new TimeMap();\n",
    "timeMap.set(\"foo\", \"bar\", 1); // store the key \"foo\" and value \"bar\" along with timestamp = 1.\n",
    "timeMap.get(\"foo\", 1); // return \"bar\"\n",
    "timeMap.get(\"foo\", 3); // return \"bar\", since there is no value corresponding to foo at timestamp 3 and timestamp 2, then the only value is at timestamp 1 is \"bar\".\n",
    "timeMap.set(\"foo\", \"bar2\", 4); // store the key \"foo\" and value \"bar2\" along with timestamp = 4.\n",
    "timeMap.get(\"foo\", 4); // return \"bar2\"\n",
    "timeMap.get(\"foo\", 5); // return \"bar2\"\n",
    "```\n",
    "\n",
    "Constraints:\n",
    "\n",
    "- `1 <= key.length, value.length <= 100`\n",
    "- `key` and `value` consist of lowercase English letters and digits.\n",
    "- <code>1 <= timestamp <= 10<sup>7</sup></code>\n",
    "- All the timestamps `timestamp` of `set` are strictly increasing.\n",
    "- At most <code>2 \\* 10<sup>5</sup></code> calls will be made to `set` and `get`.\n"
   ]
  },
  {
   "attachments": {},
   "cell_type": "markdown",
   "metadata": {},
   "source": [
    "[Video Solution](https://www.youtube.com/watch?v=fu2cD_6E8Hw)\n"
   ]
  },
  {
   "cell_type": "code",
   "execution_count": 1,
   "metadata": {},
   "outputs": [],
   "source": [
    "class TimeMap:\n",
    "\n",
    "  def __init__(self):\n",
    "    \"\"\"\n",
    "        Initialize your data structure here.\n",
    "        \"\"\"\n",
    "    self.keyStore = {}  # key : list of [val, timestamp]\n",
    "\n",
    "  def set(self, key: str, value: str, timestamp: int) -> None:\n",
    "    if key not in self.keyStore:\n",
    "      self.keyStore[key] = []\n",
    "    self.keyStore[key].append([value, timestamp])\n",
    "\n",
    "  def get(self, key: str, timestamp: int) -> str:\n",
    "    res, values = \"\", self.keyStore.get(key, [])\n",
    "    l, r = 0, len(values) - 1\n",
    "    while l <= r:\n",
    "      m = (l + r) // 2\n",
    "      if values[m][1] <= timestamp:\n",
    "        res = values[m][0]\n",
    "        l = m + 1\n",
    "      else:\n",
    "        r = m - 1\n",
    "    return res\n"
   ]
  },
  {
   "cell_type": "code",
   "execution_count": null,
   "metadata": {},
   "outputs": [],
   "source": [
    "timeMap = TimeMap()\n",
    "\n",
    "timeMap.set(\"foo\", \"bar\", 1)\n",
    "print(timeMap.get(\"foo\", 1))\n",
    "print(timeMap.get(\"foo\", 3))\n",
    "\n",
    "timeMap.set(\"foo\", \"bar2\", 4)\n",
    "print(timeMap.get(\"foo\", 4))\n",
    "print(timeMap.get(\"foo\", 5))\n"
   ]
  }
 ],
 "metadata": {
  "kernelspec": {
   "display_name": "Python 3",
   "language": "python",
   "name": "python3"
  },
  "language_info": {
   "codemirror_mode": {
    "name": "ipython",
    "version": 3
   },
   "file_extension": ".py",
   "mimetype": "text/x-python",
   "name": "python",
   "nbconvert_exporter": "python",
   "pygments_lexer": "ipython3",
   "version": "3.11.3"
  },
  "orig_nbformat": 4
 },
 "nbformat": 4,
 "nbformat_minor": 2
}
