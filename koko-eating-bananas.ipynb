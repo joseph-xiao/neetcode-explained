{
 "cells": [
  {
   "attachments": {},
   "cell_type": "markdown",
   "metadata": {},
   "source": [
    "[Koko Eating Bananas](https://leetcode.com/problems/koko-eating-bananas/)\n",
    "\n",
    "Koko loves to eat bananas. There are `n` piles of bananas, the <code>i<sup>th</sup></code> pile has `piles[i]` bananas. The guards have gone and will come back in `h` hours.\n",
    "\n",
    "Koko can decide her bananas-per-hour eating speed of `k`. Each hour, she chooses some pile of bananas and eats `k` bananas from that pile. If the pile has less than `k` bananas, she eats all of them instead and will not eat any more bananas during this hour.\n",
    "\n",
    "Koko likes to eat slowly but still wants to finish eating all the bananas before the guards return.\n",
    "\n",
    "Return the minimum integer `k` such that she can eat all the bananas within `h` hours.\n",
    "\n",
    "Example 1:\n",
    "\n",
    "```\n",
    "Input: piles = [3,6,7,11], h = 8\n",
    "Output: 4\n",
    "```\n",
    "\n",
    "Example 2:\n",
    "\n",
    "```\n",
    "Input: piles = [30,11,23,4,20], h = 5\n",
    "Output: 30\n",
    "```\n",
    "\n",
    "Example 3:\n",
    "\n",
    "```\n",
    "Input: piles = [30,11,23,4,20], h = 6\n",
    "Output: 23\n",
    "```\n",
    "\n",
    "Constraints:\n",
    "\n",
    "- <code>1 <= piles.length <= 10<sup>4</sup></code>\n",
    "- <code>piles.length <= h <= 10<sup>9</sup></code>\n",
    "- <code>1 <= piles[i] <= 10<sup>9</sup></code>\n"
   ]
  },
  {
   "attachments": {},
   "cell_type": "markdown",
   "metadata": {},
   "source": [
    "[Video Solution](https://www.youtube.com/watch?v=U2SozAs9RzA)\n"
   ]
  },
  {
   "cell_type": "code",
   "execution_count": 1,
   "metadata": {},
   "outputs": [],
   "source": [
    "import math\n",
    "\n",
    "\n",
    "class Solution:\n",
    "\n",
    "  def minEatingSpeed(self, piles: list[int], h: int) -> int:\n",
    "    l, r = 1, max(piles)\n",
    "    res = max(piles)\n",
    "\n",
    "    while l <= r:\n",
    "      k = (l + r) // 2\n",
    "\n",
    "      totalTime = 0\n",
    "      for p in piles:\n",
    "        totalTime += math.ceil(p / k)\n",
    "      if totalTime <= h:\n",
    "        res = min(res, k)\n",
    "        r = k - 1\n",
    "      else:\n",
    "        l = k + 1\n",
    "\n",
    "    return res\n"
   ]
  },
  {
   "cell_type": "code",
   "execution_count": null,
   "metadata": {},
   "outputs": [],
   "source": [
    "test = Solution()\n",
    "\n",
    "print(test.minEatingSpeed(piles=[3, 6, 7, 11], h=8))  # 4\n",
    "\n",
    "print(test.minEatingSpeed(piles=[30, 11, 23, 4, 20], h=5))  # 30\n",
    "\n",
    "print(test.minEatingSpeed(piles=[30, 11, 23, 4, 20], h=6))  # 23\n"
   ]
  }
 ],
 "metadata": {
  "kernelspec": {
   "display_name": "Python 3",
   "language": "python",
   "name": "python3"
  },
  "language_info": {
   "codemirror_mode": {
    "name": "ipython",
    "version": 3
   },
   "file_extension": ".py",
   "mimetype": "text/x-python",
   "name": "python",
   "nbconvert_exporter": "python",
   "pygments_lexer": "ipython3",
   "version": "3.11.3"
  },
  "orig_nbformat": 4
 },
 "nbformat": 4,
 "nbformat_minor": 2
}
