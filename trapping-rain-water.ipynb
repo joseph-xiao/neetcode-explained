{
 "cells": [
  {
   "attachments": {},
   "cell_type": "markdown",
   "metadata": {},
   "source": [
    "[Trapping Rain Water](https://leetcode.com/problems/trapping-rain-water/)\n",
    "\n",
    "Given `n` non-negative integers representing an elevation map where the width of each bar is `1`, compute how much water it can trap after raining.\n",
    "\n",
    "Example 1:\n",
    "\n",
    "![](https://assets.leetcode.com/uploads/2018/10/22/rainwatertrap.png)\n",
    "\n",
    "```\n",
    "Input: height = [0,1,0,2,1,0,1,3,2,1,2,1]\n",
    "Output: 6\n",
    "Explanation: The above elevation map (black section) is represented by array [0,1,0,2,1,0,1,3,2,1,2,1]. In this case, 6 units of rain water (blue section) are being trapped.\n",
    "```\n",
    "\n",
    "Example 2:\n",
    "\n",
    "```\n",
    "Input: height = [4,2,0,3,2,5]\n",
    "Output: 9\n",
    "```\n",
    "\n",
    "Constraints:\n",
    "\n",
    "- `n == height.length`\n",
    "- <code>1 <= n <= 2 \\* 10<sup>4</sup></code>\n",
    "- <code>0 <= height[i] <= 10<sup>5</sup></code>\n"
   ]
  },
  {
   "attachments": {},
   "cell_type": "markdown",
   "metadata": {},
   "source": [
    "[Solution](https://www.youtube.com/watch?v=ZI2z5pq0TqA)\n"
   ]
  },
  {
   "cell_type": "code",
   "execution_count": 1,
   "metadata": {},
   "outputs": [],
   "source": [
    "class Solution:\n",
    "\n",
    "  def trap(self, height: list[int]) -> int:\n",
    "    if not height:\n",
    "      return 0\n",
    "\n",
    "    l, r = 0, len(height) - 1\n",
    "    leftMax, rightMax = height[l], height[r]\n",
    "    res = 0\n",
    "    while l < r:\n",
    "      if leftMax < rightMax:\n",
    "        l += 1\n",
    "        leftMax = max(leftMax, height[l])\n",
    "        res += leftMax - height[l]\n",
    "      else:\n",
    "        r -= 1\n",
    "        rightMax = max(rightMax, height[r])\n",
    "        res += rightMax - height[r]\n",
    "    return res\n"
   ]
  },
  {
   "cell_type": "code",
   "execution_count": null,
   "metadata": {},
   "outputs": [],
   "source": [
    "test = Solution()\n",
    "\n",
    "print(test.trap(height=[0, 1, 0, 2, 1, 0, 1, 3, 2, 1, 2, 1]))  # 6\n",
    "\n",
    "print(test.trap(height=[4, 2, 0, 3, 2, 5]))  # 9\n"
   ]
  }
 ],
 "metadata": {
  "kernelspec": {
   "display_name": "Python 3",
   "language": "python",
   "name": "python3"
  },
  "language_info": {
   "codemirror_mode": {
    "name": "ipython",
    "version": 3
   },
   "file_extension": ".py",
   "mimetype": "text/x-python",
   "name": "python",
   "nbconvert_exporter": "python",
   "pygments_lexer": "ipython3",
   "version": "3.11.3"
  },
  "orig_nbformat": 4
 },
 "nbformat": 4,
 "nbformat_minor": 2
}
