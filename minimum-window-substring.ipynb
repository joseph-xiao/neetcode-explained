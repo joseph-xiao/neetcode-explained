{
 "cells": [
  {
   "attachments": {},
   "cell_type": "markdown",
   "metadata": {},
   "source": [
    "[Minimum Window Substring](https://leetcode.com/problems/minimum-window-substring/)\n",
    "\n",
    "Given two strings `s` and `t` of lengths `m` and `n` respectively, return the **minimum window substring** of `s` such that every character in `t` (**including duplicates**) is included in the window. If there is no such substring, return the empty string `\"\"`.\n",
    "\n",
    "The testcases will be generated such that the answer is **unique**.\n",
    "\n",
    "A **substring** is a contiguous non-empty sequence of characters within a string.\n",
    "\n",
    "Example 1:\n",
    "\n",
    "```\n",
    "Input: s = \"ADOBECODEBANC\", t = \"ABC\"\n",
    "Output: \"BANC\"\n",
    "Explanation: The minimum window substring \"BANC\" includes 'A', 'B', and 'C' from string t.\n",
    "```\n",
    "\n",
    "Example 2:\n",
    "\n",
    "```\n",
    "Input: s = \"a\", t = \"a\"\n",
    "Output: \"a\"\n",
    "Explanation: The entire string s is the minimum window.\n",
    "```\n",
    "\n",
    "Example 3:\n",
    "\n",
    "```\n",
    "Input: s = \"a\", t = \"aa\"\n",
    "Output: \"\"\n",
    "Explanation: Both 'a's from t must be included in the window.\n",
    "Since the largest window of s only has one 'a', return empty string.\n",
    "```\n",
    "\n",
    "Constraints:\n",
    "\n",
    "- `m == s.length`\n",
    "- `n == t.length`\n",
    "- <code>1 <= m, n <= 10<sup>5</sup></code>\n",
    "- `s` and `t` consist of uppercase and lowercase English letters.\n"
   ]
  },
  {
   "attachments": {},
   "cell_type": "markdown",
   "metadata": {},
   "source": [
    "[Video Solution](https://www.youtube.com/watch?v=jSto0O4AJbM)\n"
   ]
  },
  {
   "cell_type": "code",
   "execution_count": 1,
   "metadata": {},
   "outputs": [],
   "source": [
    "class Solution:\n",
    "\n",
    "  def minWindow(self, s: str, t: str) -> str:\n",
    "    if t == \"\":\n",
    "      return \"\"\n",
    "\n",
    "    countT, window = {}, {}\n",
    "    for c in t:\n",
    "      countT[c] = 1 + countT.get(c, 0)\n",
    "\n",
    "    have, need = 0, len(countT)\n",
    "    res, resLen = [-1, -1], float(\"infinity\")\n",
    "    l = 0\n",
    "    for r in range(len(s)):\n",
    "      c = s[r]\n",
    "      window[c] = 1 + window.get(c, 0)\n",
    "\n",
    "      if c in countT and window[c] == countT[c]:\n",
    "        have += 1\n",
    "\n",
    "      while have == need:\n",
    "        # update our result\n",
    "        if (r - l + 1) < resLen:\n",
    "          res = [l, r]\n",
    "          resLen = r - l + 1\n",
    "        # pop from the left of our window\n",
    "        window[s[l]] -= 1\n",
    "        if s[l] in countT and window[s[l]] < countT[s[l]]:\n",
    "          have -= 1\n",
    "        l += 1\n",
    "    l, r = res\n",
    "    return s[l:r + 1] if resLen != float(\"infinity\") else \"\"\n"
   ]
  },
  {
   "cell_type": "code",
   "execution_count": null,
   "metadata": {},
   "outputs": [],
   "source": [
    "test = Solution()\n",
    "\n",
    "print(test.minWindow(s=\"ADOBECODEBANC\", t=\"ABC\"))  # BANC\n",
    "\n",
    "print(test.minWindow(s=\"a\", t=\"a\"))  # a\n",
    "\n",
    "print(test.minWindow(s=\"a\", t=\"aa\"))  # \"\"\n"
   ]
  }
 ],
 "metadata": {
  "kernelspec": {
   "display_name": "Python 3",
   "language": "python",
   "name": "python3"
  },
  "language_info": {
   "codemirror_mode": {
    "name": "ipython",
    "version": 3
   },
   "file_extension": ".py",
   "mimetype": "text/x-python",
   "name": "python",
   "nbconvert_exporter": "python",
   "pygments_lexer": "ipython3",
   "version": "3.11.3"
  },
  "orig_nbformat": 4
 },
 "nbformat": 4,
 "nbformat_minor": 2
}
