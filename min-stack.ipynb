{
 "cells": [
  {
   "attachments": {},
   "cell_type": "markdown",
   "metadata": {},
   "source": [
    "[Min Stack](https://leetcode.com/problems/min-stack/)\n",
    "\n",
    "Design a stack that supports push, pop, top, and retrieving the minimum element in constant time.\n",
    "\n",
    "Implement the `MinStack` class:\n",
    "\n",
    "- `MinStack()` initializes the stack object.\n",
    "- `void push(int val)` pushes the element `val` onto the stack.\n",
    "- `void pop()` removes the element on the top of the stack.\n",
    "- `int top()` gets the top element of the stack.\n",
    "- `int getMin()` retrieves the minimum element in the stack.\n",
    "\n",
    "You must implement a solution with `O(1)` time complexity for each function.\n",
    "\n",
    "Example 1:\n",
    "\n",
    "```\n",
    "Input\n",
    "[\"MinStack\",\"push\",\"push\",\"push\",\"getMin\",\"pop\",\"top\",\"getMin\"]\n",
    "[[],[-2],[0],[-3],[],[],[],[]]\n",
    "\n",
    "Output\n",
    "[null,null,null,null,-3,null,0,-2]\n",
    "\n",
    "Explanation\n",
    "MinStack minStack = new MinStack();\n",
    "minStack.push(-2);\n",
    "minStack.push(0);\n",
    "minStack.push(-3);\n",
    "minStack.getMin(); // return -3\n",
    "minStack.pop();\n",
    "minStack.top();    // return 0\n",
    "minStack.getMin(); // return -2\n",
    "```\n",
    "\n",
    "Constraints:\n",
    "\n",
    "- <code>-2<sup>31</sup> <= val <= 2<sup>31</sup> - 1</code>\n",
    "- Methods `pop`, `top` and `getMin` operations will always be called on **non-empty** stacks.\n",
    "- At most <code>3 \\* 10<sup>4</sup></code> calls will be made to `push`, `pop`, `top`, and `getMin`.\n"
   ]
  },
  {
   "attachments": {},
   "cell_type": "markdown",
   "metadata": {},
   "source": [
    "[Video Solution](https://www.youtube.com/watch?v=qkLl7nAwDPo)\n"
   ]
  },
  {
   "cell_type": "code",
   "execution_count": 1,
   "metadata": {},
   "outputs": [],
   "source": [
    "class MinStack:\n",
    "\n",
    "  def __init__(self):\n",
    "    self.stack = []\n",
    "    self.minStack = []\n",
    "\n",
    "  def push(self, val: int) -> None:\n",
    "    self.stack.append(val)\n",
    "    val = min(val, self.minStack[-1] if self.minStack else val)\n",
    "    self.minStack.append(val)\n",
    "\n",
    "  def pop(self) -> None:\n",
    "    self.stack.pop()\n",
    "    self.minStack.pop()\n",
    "\n",
    "  def top(self) -> int:\n",
    "    return self.stack[-1]\n",
    "\n",
    "  def getMin(self) -> int:\n",
    "    return self.minStack[-1]\n"
   ]
  },
  {
   "cell_type": "code",
   "execution_count": null,
   "metadata": {},
   "outputs": [],
   "source": [
    "minStack = MinStack()\n",
    "\n",
    "print(minStack.push(-2))\n",
    "\n",
    "print(minStack.push(0))\n",
    "\n",
    "print(minStack.push(-3))\n",
    "\n",
    "print(minStack.getMin())  # return -3\n",
    "\n",
    "print(minStack.pop())\n",
    "\n",
    "print(minStack.top())  # return 0\n",
    "\n",
    "print(minStack.getMin())  # return -2\n"
   ]
  }
 ],
 "metadata": {
  "kernelspec": {
   "display_name": "Python 3",
   "language": "python",
   "name": "python3"
  },
  "language_info": {
   "codemirror_mode": {
    "name": "ipython",
    "version": 3
   },
   "file_extension": ".py",
   "mimetype": "text/x-python",
   "name": "python",
   "nbconvert_exporter": "python",
   "pygments_lexer": "ipython3",
   "version": "3.11.3"
  },
  "orig_nbformat": 4
 },
 "nbformat": 4,
 "nbformat_minor": 2
}
