{
 "cells": [
  {
   "attachments": {},
   "cell_type": "markdown",
   "metadata": {},
   "source": [
    "[Daily Temperatures](https://leetcode.com/problems/daily-temperatures/)\n",
    "\n",
    "Given an array of integers `temperatures` represents the daily temperatures, return an array answer such that `answer[i]` is the number of days you have to wait after the <code>i<sup>th</sup></code> day to get a warmer temperature. If there is no future day for which this is possible, keep `answer[i] == 0` instead.\n",
    "\n",
    "Example 1:\n",
    "\n",
    "```\n",
    "Input: temperatures = [73,74,75,71,69,72,76,73]\n",
    "Output: [1,1,4,2,1,1,0,0]\n",
    "```\n",
    "\n",
    "Example 2:\n",
    "\n",
    "```\n",
    "Input: temperatures = [30,40,50,60]\n",
    "Output: [1,1,1,0]\n",
    "```\n",
    "\n",
    "Example 3:\n",
    "\n",
    "```\n",
    "Input: temperatures = [30,60,90]\n",
    "Output: [1,1,0]\n",
    "```\n",
    "\n",
    "Constraints:\n",
    "\n",
    "- <code>1 <= temperatures.length <= 10<sup>5</sup></code>\n",
    "- `30 <= temperatures[i] <= 100`\n"
   ]
  },
  {
   "attachments": {},
   "cell_type": "markdown",
   "metadata": {},
   "source": [
    "[Video Solution](https://www.youtube.com/watch?v=cTBiBSnjO3c)\n"
   ]
  },
  {
   "cell_type": "code",
   "execution_count": 1,
   "metadata": {},
   "outputs": [],
   "source": [
    "class Solution:\n",
    "\n",
    "  def dailyTemperatures(self, temperatures: list[int]) -> list[int]:\n",
    "    res = [0] * len(temperatures)\n",
    "    stack = []  # pair: [temp, index]\n",
    "\n",
    "    for i, t in enumerate(temperatures):\n",
    "      while stack and t > stack[-1][0]:\n",
    "        stackT, stackInd = stack.pop()\n",
    "        res[stackInd] = i - stackInd\n",
    "      stack.append((t, i))\n",
    "    return res\n"
   ]
  },
  {
   "cell_type": "code",
   "execution_count": null,
   "metadata": {},
   "outputs": [],
   "source": [
    "test = Solution()\n",
    "\n",
    "print(test.dailyTemperatures(temperatures=[73, 74, 75, 71, 69, 72, 76, 73]))\n",
    "# [1,1,4,2,1,1,0,0]\n",
    "\n",
    "print(test.dailyTemperatures(temperatures=[30, 40, 50, 60]))\n",
    "# [1,1,1,0]\n",
    "\n",
    "print(test.dailyTemperatures(temperatures=[30, 60, 90]))\n",
    "# [1,1,0]\n"
   ]
  }
 ],
 "metadata": {
  "kernelspec": {
   "display_name": "Python 3",
   "language": "python",
   "name": "python3"
  },
  "language_info": {
   "codemirror_mode": {
    "name": "ipython",
    "version": 3
   },
   "file_extension": ".py",
   "mimetype": "text/x-python",
   "name": "python",
   "nbconvert_exporter": "python",
   "pygments_lexer": "ipython3",
   "version": "3.11.3"
  },
  "orig_nbformat": 4
 },
 "nbformat": 4,
 "nbformat_minor": 2
}
