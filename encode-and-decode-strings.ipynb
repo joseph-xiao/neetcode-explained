{
 "cells": [
  {
   "attachments": {},
   "cell_type": "markdown",
   "metadata": {},
   "source": [
    "[Encode and Decode Strings](https://www.lintcode.com/problem/659/)\n",
    "\n",
    "Design an algorithm to encode a list of strings to a string. The encoded string is then sent over the network and is decoded back to the original list of strings.\n",
    "\n",
    "Please implement `encode` and `decode`\n"
   ]
  },
  {
   "attachments": {},
   "cell_type": "markdown",
   "metadata": {},
   "source": [
    "[Video Solution](https://www.youtube.com/watch?v=B1k_sxOSgv8)\n"
   ]
  },
  {
   "cell_type": "code",
   "execution_count": 1,
   "metadata": {},
   "outputs": [],
   "source": [
    "class Solution:\n",
    "  \"\"\"\n",
    "    @param: strs: a list of strings\n",
    "    @return: encodes a list of strings to a single string.\n",
    "  \"\"\"\n",
    "\n",
    "  def encode(self, strs):\n",
    "    res = \"\"\n",
    "    for s in strs:\n",
    "      res += str(len(s)) + \"#\" + s\n",
    "    return res\n",
    "\n",
    "  \"\"\"\n",
    "    @param: s: A string\n",
    "    @return: decodes a single string to a list of strings\n",
    "  \"\"\"\n",
    "\n",
    "  def decode(self, s):\n",
    "    res, i = [], 0\n",
    "\n",
    "    while i < len(s):\n",
    "      j = i\n",
    "      while s[j] != \"#\":\n",
    "        j += 1\n",
    "      length = int(s[i:j])\n",
    "      res.append(s[j + 1:j + 1 + length])\n",
    "      i = j + 1 + length\n",
    "    return res\n"
   ]
  },
  {
   "cell_type": "code",
   "execution_count": null,
   "metadata": {},
   "outputs": [],
   "source": [
    "test = Solution()\n",
    "\n",
    "print(test.encode([\"neet\", \"co#de\"]))\n",
    "print(test.decode(\"4#neet5#co#de\"))\n"
   ]
  }
 ],
 "metadata": {
  "kernelspec": {
   "display_name": "Python 3",
   "language": "python",
   "name": "python3"
  },
  "language_info": {
   "codemirror_mode": {
    "name": "ipython",
    "version": 3
   },
   "file_extension": ".py",
   "mimetype": "text/x-python",
   "name": "python",
   "nbconvert_exporter": "python",
   "pygments_lexer": "ipython3",
   "version": "3.11.3"
  },
  "orig_nbformat": 4
 },
 "nbformat": 4,
 "nbformat_minor": 2
}
