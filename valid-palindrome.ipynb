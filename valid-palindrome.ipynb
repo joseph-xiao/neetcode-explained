{
 "cells": [
  {
   "attachments": {},
   "cell_type": "markdown",
   "metadata": {},
   "source": [
    "[Valid Palindrome](https://leetcode.com/problems/valid-palindrome/)\n",
    "\n",
    "A phrase is a **palindrome** if, after converting all uppercase letters into lowercase letters and removing all non-alphanumeric characters, it reads the same forward and backward. Alphanumeric characters include letters and numbers.\n",
    "\n",
    "Given a string `s`, return `true` if it is a **palindrome**, or `false` otherwise.\n",
    "\n",
    "Example 1:\n",
    "\n",
    "```\n",
    "Input: s = \"A man, a plan, a canal: Panama\"\n",
    "Output: true\n",
    "Explanation: \"amanaplanacanalpanama\" is a palindrome.\n",
    "```\n",
    "\n",
    "Example 2:\n",
    "\n",
    "```\n",
    "Input: s = \"race a car\"\n",
    "Output: false\n",
    "Explanation: \"raceacar\" is not a palindrome.\n",
    "```\n",
    "\n",
    "Example 3:\n",
    "\n",
    "```\n",
    "Input: s = \" \"\n",
    "Output: true\n",
    "Explanation: s is an empty string \"\" after removing non-alphanumeric characters.\n",
    "Since an empty string reads the same forward and backward, it is a palindrome.\n",
    "```\n",
    "\n",
    "Constraints:\n",
    "\n",
    "- <code>1 <= s.length <= 2 \\* 10<sup>5</sup></code>\n",
    "- `s` consists only of printable ASCII characters.\n"
   ]
  },
  {
   "attachments": {},
   "cell_type": "markdown",
   "metadata": {},
   "source": [
    "[Solution](https://www.youtube.com/watch?v=jJXJ16kPFWg)\n"
   ]
  },
  {
   "cell_type": "code",
   "execution_count": 1,
   "metadata": {},
   "outputs": [],
   "source": [
    "class Solution:\n",
    "\n",
    "  def isPalindrome(self, s: str) -> bool:\n",
    "    l, r = 0, len(s) - 1\n",
    "    while l < r:\n",
    "      while l < r and not self.alphanum(s[l]):\n",
    "        l += 1\n",
    "      while l < r and not self.alphanum(s[r]):\n",
    "        r -= 1\n",
    "      if s[l].lower() != s[r].lower():\n",
    "        return False\n",
    "      l += 1\n",
    "      r -= 1\n",
    "    return True\n",
    "\n",
    "  # Could write own alpha-numeric function\n",
    "  def alphanum(self, c):\n",
    "    return (ord(\"A\") <= ord(c) <= ord(\"Z\") or ord(\"a\") <= ord(c) <= ord(\"z\") or\n",
    "            ord(\"0\") <= ord(c) <= ord(\"9\"))\n"
   ]
  },
  {
   "cell_type": "code",
   "execution_count": null,
   "metadata": {},
   "outputs": [],
   "source": [
    "test = Solution()\n",
    "\n",
    "print(test.isPalindrome(s=\"A man, a plan, a canal: Panama\"))  # True\n",
    "\n",
    "print(test.isPalindrome(s=\"race a car\"))  # False\n",
    "\n",
    "print(test.isPalindrome(s=\" \"))  # True\n"
   ]
  }
 ],
 "metadata": {
  "kernelspec": {
   "display_name": "Python 3",
   "language": "python",
   "name": "python3"
  },
  "language_info": {
   "codemirror_mode": {
    "name": "ipython",
    "version": 3
   },
   "file_extension": ".py",
   "mimetype": "text/x-python",
   "name": "python",
   "nbconvert_exporter": "python",
   "pygments_lexer": "ipython3",
   "version": "3.11.3"
  },
  "orig_nbformat": 4
 },
 "nbformat": 4,
 "nbformat_minor": 2
}
