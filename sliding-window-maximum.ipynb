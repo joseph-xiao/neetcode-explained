{
 "cells": [
  {
   "attachments": {},
   "cell_type": "markdown",
   "metadata": {},
   "source": [
    "[Sliding Window Maximum](https://leetcode.com/problems/sliding-window-maximum/)\n",
    "\n",
    "You are given an array of integers `nums`, there is a sliding window of size `k` which is moving from the very left of the array to the very right. You can only see the `k` numbers in the window. Each time the sliding window moves right by one position.\n",
    "\n",
    "Return the max sliding window.\n",
    "\n",
    "Example 1:\n",
    "\n",
    "```\n",
    "Input: nums = [1,3,-1,-3,5,3,6,7], k = 3\n",
    "Output: [3,3,5,5,6,7]\n",
    "Explanation:\n",
    "Window position                Max\n",
    "---------------               -----\n",
    "[1  3  -1] -3  5  3  6  7       3\n",
    " 1 [3  -1  -3] 5  3  6  7       3\n",
    " 1  3 [-1  -3  5] 3  6  7       5\n",
    " 1  3  -1 [-3  5  3] 6  7       5\n",
    " 1  3  -1  -3 [5  3  6] 7       6\n",
    " 1  3  -1  -3  5 [3  6  7]      7\n",
    "```\n",
    "\n",
    "Example 2:\n",
    "\n",
    "```\n",
    "Input: nums = [1], k = 1\n",
    "Output: [1]\n",
    "```\n",
    "\n",
    "Constraints:\n",
    "\n",
    "- <code>1 <= nums.length <= 10<sup>5</sup></code>\n",
    "- <code>-10<sup>4</sup> <= nums[i] <= 10<sup>4</sup></code>\n",
    "- `1 <= k <= nums.length`\n"
   ]
  },
  {
   "attachments": {},
   "cell_type": "markdown",
   "metadata": {},
   "source": [
    "[Video Solution](https://www.youtube.com/watch?v=DfljaUwZsOk)\n"
   ]
  },
  {
   "cell_type": "code",
   "execution_count": 1,
   "metadata": {},
   "outputs": [],
   "source": [
    "from collections import deque\n",
    "\n",
    "\n",
    "class Solution:\n",
    "\n",
    "  def maxSlidingWindow(self, nums: list[int], k: int) -> list[int]:\n",
    "    output = []\n",
    "    q = deque()  # index\n",
    "    l = r = 0\n",
    "    # O(n) O(n)\n",
    "    while r < len(nums):\n",
    "      # pop smaller values from q\n",
    "      while q and nums[q[-1]] < nums[r]:\n",
    "        q.pop()\n",
    "      q.append(r)\n",
    "\n",
    "      # remove left val from window\n",
    "      if l > q[0]:\n",
    "        q.popleft()\n",
    "\n",
    "      if (r + 1) >= k:\n",
    "        output.append(nums[q[0]])\n",
    "        l += 1\n",
    "      r += 1\n",
    "\n",
    "    return output\n"
   ]
  },
  {
   "cell_type": "code",
   "execution_count": null,
   "metadata": {},
   "outputs": [],
   "source": [
    "test = Solution()\n",
    "\n",
    "print(test.maxSlidingWindow(nums=[1, 3, -1, -3, 5, 3, 6, 7], k=3))\n",
    "# [3,3,5,5,6,7]\n",
    "\n",
    "print(test.maxSlidingWindow(nums=[1], k=1))\n",
    "# [1]\n"
   ]
  }
 ],
 "metadata": {
  "kernelspec": {
   "display_name": "Python 3",
   "language": "python",
   "name": "python3"
  },
  "language_info": {
   "codemirror_mode": {
    "name": "ipython",
    "version": 3
   },
   "file_extension": ".py",
   "mimetype": "text/x-python",
   "name": "python",
   "nbconvert_exporter": "python",
   "pygments_lexer": "ipython3",
   "version": "3.11.3"
  },
  "orig_nbformat": 4
 },
 "nbformat": 4,
 "nbformat_minor": 2
}
