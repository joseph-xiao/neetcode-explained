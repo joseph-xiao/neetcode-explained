{
 "cells": [
  {
   "attachments": {},
   "cell_type": "markdown",
   "metadata": {},
   "source": [
    "[Median of Two Sorted Arrays](https://leetcode.com/problems/median-of-two-sorted-arrays/)\n",
    "\n",
    "Given two sorted arrays `nums1` and `nums2` of size `m` and `n` respectively, return **the median** of the two sorted arrays.\n",
    "\n",
    "The overall run time complexity should be `O(log (m+n))`.\n",
    "\n",
    "Example 1:\n",
    "\n",
    "```\n",
    "Input: nums1 = [1,3], nums2 = [2]\n",
    "Output: 2.00000\n",
    "Explanation: merged array = [1,2,3] and median is 2.\n",
    "```\n",
    "\n",
    "Example 2:\n",
    "\n",
    "```\n",
    "Input: nums1 = [1,2], nums2 = [3,4]\n",
    "Output: 2.50000\n",
    "Explanation: merged array = [1,2,3,4] and median is (2 + 3) / 2 = 2.5.\n",
    "```\n",
    "\n",
    "Constraints:\n",
    "\n",
    "- `nums1.length == m`\n",
    "- `nums2.length == n`\n",
    "- `0 <= m <= 1000`\n",
    "- `0 <= n <= 1000`\n",
    "- `1 <= m + n <= 2000`\n",
    "- <code>-10<sup>6</sup> <= nums1[i], nums2[i] <= 10<sup>6</sup></code>\n"
   ]
  },
  {
   "attachments": {},
   "cell_type": "markdown",
   "metadata": {},
   "source": [
    "[Video Solution](https://www.youtube.com/watch?v=q6IEA26hvXc)\n"
   ]
  },
  {
   "cell_type": "code",
   "execution_count": 1,
   "metadata": {},
   "outputs": [],
   "source": [
    "# Time: log(min(n, m))\n",
    "\n",
    "\n",
    "class Solution:\n",
    "\n",
    "  def findMedianSortedArrays(self, nums1: list[int], nums2: list[int]) -> float:\n",
    "    A, B = nums1, nums2\n",
    "    total = len(nums1) + len(nums2)\n",
    "    half = total // 2\n",
    "\n",
    "    if len(B) < len(A):\n",
    "      A, B = B, A\n",
    "\n",
    "    l, r = 0, len(A) - 1\n",
    "    while True:\n",
    "      i = (l + r) // 2  # A\n",
    "      j = half - i - 2  # B\n",
    "\n",
    "      Aleft = A[i] if i >= 0 else float(\"-infinity\")\n",
    "      Aright = A[i + 1] if (i + 1) < len(A) else float(\"infinity\")\n",
    "      Bleft = B[j] if j >= 0 else float(\"-infinity\")\n",
    "      Bright = B[j + 1] if (j + 1) < len(B) else float(\"infinity\")\n",
    "\n",
    "      # partition is correct\n",
    "      if Aleft <= Bright and Bleft <= Aright:\n",
    "        # odd\n",
    "        if total % 2:\n",
    "          return min(Aright, Bright)\n",
    "        # even\n",
    "        return (max(Aleft, Bleft) + min(Aright, Bright)) / 2\n",
    "      elif Aleft > Bright:\n",
    "        r = i - 1\n",
    "      else:\n",
    "        l = i + 1\n"
   ]
  },
  {
   "cell_type": "code",
   "execution_count": null,
   "metadata": {},
   "outputs": [],
   "source": [
    "test = Solution()\n",
    "\n",
    "print(test.findMedianSortedArrays(nums1=[1, 3], nums2=[2]))  # 2\n",
    "\n",
    "print(test.findMedianSortedArrays(nums1=[1, 2], nums2=[3, 4]))  # 2.5\n"
   ]
  }
 ],
 "metadata": {
  "kernelspec": {
   "display_name": "Python 3",
   "language": "python",
   "name": "python3"
  },
  "language_info": {
   "codemirror_mode": {
    "name": "ipython",
    "version": 3
   },
   "file_extension": ".py",
   "mimetype": "text/x-python",
   "name": "python",
   "nbconvert_exporter": "python",
   "pygments_lexer": "ipython3",
   "version": "3.11.3"
  },
  "orig_nbformat": 4
 },
 "nbformat": 4,
 "nbformat_minor": 2
}
