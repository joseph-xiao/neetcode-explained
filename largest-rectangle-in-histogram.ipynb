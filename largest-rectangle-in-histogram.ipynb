{
 "cells": [
  {
   "attachments": {},
   "cell_type": "markdown",
   "metadata": {},
   "source": [
    "[Largest Rectangle in Histogram](https://leetcode.com/problems/largest-rectangle-in-histogram/)\n",
    "\n",
    "Given an array of integers `heights` representing the histogram's bar height where the width of each bar is `1`, return the area of the largest rectangle in the histogram.\n",
    "\n",
    "Example 1:\n",
    "\n",
    "![](https://assets.leetcode.com/uploads/2021/01/04/histogram.jpg)\n",
    "\n",
    "```\n",
    "Input: heights = [2,1,5,6,2,3]\n",
    "Output: 10\n",
    "Explanation: The above is a histogram where width of each bar is 1.\n",
    "The largest rectangle is shown in the red area, which has an area = 10 units.\n",
    "```\n",
    "\n",
    "Example 2:\n",
    "\n",
    "![](https://assets.leetcode.com/uploads/2021/01/04/histogram-1.jpg)\n",
    "\n",
    "```\n",
    "Input: heights = [2,4]\n",
    "Output: 4\n",
    "```\n",
    "\n",
    "Constraints:\n",
    "\n",
    "- <code>1 <= heights.length <= 10<sup>5</sup></code>\n",
    "- <code>0 <= heights[i] <= 10<sup>4</sup></code>\n"
   ]
  },
  {
   "attachments": {},
   "cell_type": "markdown",
   "metadata": {},
   "source": [
    "[Video Solution](https://www.youtube.com/watch?v=zx5Sw9130L0)\n"
   ]
  },
  {
   "cell_type": "code",
   "execution_count": 1,
   "metadata": {},
   "outputs": [],
   "source": [
    "class Solution:\n",
    "\n",
    "  def largestRectangleArea(self, heights: list[int]) -> int:\n",
    "    maxArea = 0\n",
    "    stack = []  # pair: (index, height)\n",
    "\n",
    "    for i, h in enumerate(heights):\n",
    "      start = i\n",
    "      while stack and stack[-1][1] > h:\n",
    "        index, height = stack.pop()\n",
    "        maxArea = max(maxArea, height * (i - index))\n",
    "        start = index\n",
    "      stack.append((start, h))\n",
    "\n",
    "    for i, h in stack:\n",
    "      maxArea = max(maxArea, h * (len(heights) - i))\n",
    "    return maxArea\n"
   ]
  },
  {
   "cell_type": "code",
   "execution_count": null,
   "metadata": {},
   "outputs": [],
   "source": [
    "test = Solution()\n",
    "\n",
    "print(test.largestRectangleArea(heights=[2, 1, 5, 6, 2, 3]))  # 10\n",
    "\n",
    "print(test.largestRectangleArea(heights=[2, 4]))  # 4\n"
   ]
  }
 ],
 "metadata": {
  "kernelspec": {
   "display_name": "Python 3",
   "language": "python",
   "name": "python3"
  },
  "language_info": {
   "codemirror_mode": {
    "name": "ipython",
    "version": 3
   },
   "file_extension": ".py",
   "mimetype": "text/x-python",
   "name": "python",
   "nbconvert_exporter": "python",
   "pygments_lexer": "ipython3",
   "version": "3.11.3"
  },
  "orig_nbformat": 4
 },
 "nbformat": 4,
 "nbformat_minor": 2
}
