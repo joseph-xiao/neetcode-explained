{
 "cells": [
  {
   "attachments": {},
   "cell_type": "markdown",
   "metadata": {},
   "source": [
    "[Contains Duplicate](https://leetcode.com/problems/contains-duplicate/)\n",
    "\n",
    "Given an integer array `nums`, return `true` if any value appears **at least twice** in the array, and return `false` if every element is distinct.\n",
    "\n",
    "Example 1:\n",
    "\n",
    "```\n",
    "Input: nums = [1,2,3,1]\n",
    "Output: true\n",
    "```\n",
    "\n",
    "Example 2:\n",
    "\n",
    "```\n",
    "Input: nums = [1,2,3,4]\n",
    "Output: false\n",
    "```\n",
    "\n",
    "Example 3:\n",
    "\n",
    "```\n",
    "Input: nums = [1,1,1,3,3,4,3,2,4,2]\n",
    "Output: true\n",
    "```\n",
    "\n",
    "Constraints:\n",
    "\n",
    "- <code>1 <= nums.length <= 10<sup>5</sup></code>\n",
    "- <code>-10<sup>9</sup> <= nums[i] <= 10<sup>9</sup></code>\n"
   ]
  },
  {
   "attachments": {},
   "cell_type": "markdown",
   "metadata": {},
   "source": [
    "[Solution](https://www.youtube.com/watch?v=3OamzN90kPg)\n",
    "\n",
    "Tests for knowledge of Set, which returns a collection of only unique values\n",
    "\n",
    "Establish a new set collection\n",
    "\n",
    "Loop through each number in nums array\n",
    "\n",
    "&nbsp;&nbsp;If the value exists in the set, return true\n",
    "\n",
    "&nbsp;&nbsp;Add value to the set\n",
    "\n",
    "Return false if loop completes without hitting a value in the set\n"
   ]
  },
  {
   "cell_type": "code",
   "execution_count": 12,
   "metadata": {},
   "outputs": [],
   "source": [
    "class Solution:\n",
    "\n",
    "  def containsDuplicate(self, nums: list[int]) -> bool:\n",
    "    hashset = set()\n",
    "\n",
    "    for n in nums:\n",
    "\n",
    "      if n in hashset:\n",
    "        return True\n",
    "\n",
    "      hashset.add(n)\n",
    "\n",
    "    return False\n"
   ]
  },
  {
   "cell_type": "code",
   "execution_count": null,
   "metadata": {},
   "outputs": [],
   "source": [
    "test = Solution()\n",
    "\n",
    "print(test.containsDuplicate([1, 2, 3, 1]))  # True\n",
    "\n",
    "print(test.containsDuplicate([1, 2, 3, 4]))  # False\n",
    "\n",
    "print(test.containsDuplicate([1, 1, 1, 3, 3, 4, 3, 2, 4, 2]))  # True\n"
   ]
  }
 ],
 "metadata": {
  "kernelspec": {
   "display_name": "Python 3",
   "language": "python",
   "name": "python3"
  },
  "language_info": {
   "codemirror_mode": {
    "name": "ipython",
    "version": 3
   },
   "file_extension": ".py",
   "mimetype": "text/x-python",
   "name": "python",
   "nbconvert_exporter": "python",
   "pygments_lexer": "ipython3",
   "version": "3.11.3"
  },
  "orig_nbformat": 4
 },
 "nbformat": 4,
 "nbformat_minor": 2
}
