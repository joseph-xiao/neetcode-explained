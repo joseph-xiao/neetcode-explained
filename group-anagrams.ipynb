{
 "cells": [
  {
   "attachments": {},
   "cell_type": "markdown",
   "metadata": {},
   "source": [
    "[Group Anagrams](https://leetcode.com/problems/group-anagrams/)\n",
    "\n",
    "Given an array of strings strs, group the anagrams together. You can return the answer in any order.\n",
    "\n",
    "An Anagram is a word or phrase formed by rearranging the letters of a different word or phrase, typically using all the original letters exactly once.\n",
    "\n",
    "Example 1:\n",
    "\n",
    "```\n",
    "Input: strs = [\"eat\",\"tea\",\"tan\",\"ate\",\"nat\",\"bat\"]\n",
    "Output: [[\"bat\"],[\"nat\",\"tan\"],[\"ate\",\"eat\",\"tea\"]]\n",
    "```\n",
    "\n",
    "Example 2:\n",
    "\n",
    "```\n",
    "Input: strs = [\"\"]\n",
    "Output: [[\"\"]]\n",
    "```\n",
    "\n",
    "Example 3:\n",
    "\n",
    "```\n",
    "Input: strs = [\"a\"]\n",
    "Output: [[\"a\"]]\n",
    "```\n",
    "\n",
    "Constraints:\n",
    "\n",
    "- <code>1 <= strs.length <= 10<sup>4</sup></code>\n",
    "- `0 <= strs[i].length <= 100`\n",
    "- `strs[i]` consists of lowercase English letters.\n"
   ]
  },
  {
   "attachments": {},
   "cell_type": "markdown",
   "metadata": {},
   "source": [
    "[Solution](https://www.youtube.com/watch?v=vzdNOK2oB2E)\n"
   ]
  },
  {
   "cell_type": "code",
   "execution_count": 4,
   "metadata": {},
   "outputs": [],
   "source": [
    "from collections import defaultdict\n",
    "\n",
    "\n",
    "class Solution:\n",
    "\n",
    "  def groupAnagrams(self, strs: list[str]) -> list[list[str]]:\n",
    "    ans = defaultdict(list)  # mapping charCount to list of Anagrams\n",
    "\n",
    "    for string in strs:\n",
    "      count = [0] * 26  # a ... z\n",
    "\n",
    "      for character in string:\n",
    "        count[ord(character) - ord(\"a\")] += 1\n",
    "\n",
    "      ans[tuple(count)].append(string)\n",
    "\n",
    "    # iterable unpacking dict_values to satisfy result typing\n",
    "    return [*ans.values()]\n"
   ]
  },
  {
   "cell_type": "code",
   "execution_count": null,
   "metadata": {},
   "outputs": [],
   "source": [
    "test = Solution()\n",
    "\n",
    "print(test.groupAnagrams(strs=[\"eat\", \"tea\", \"tan\", \"ate\", \"nat\", \"bat\"]))\n",
    "# [[\"bat\"],[\"nat\",\"tan\"],[\"ate\",\"eat\",\"tea\"]]\n",
    "\n",
    "print(test.groupAnagrams(strs=[\"\"]))\n",
    "# [[\"\"]]\n",
    "\n",
    "print(test.groupAnagrams(strs=[\"a\"]))\n",
    "# [[\"a\"]]\n"
   ]
  }
 ],
 "metadata": {
  "kernelspec": {
   "display_name": "Python 3",
   "language": "python",
   "name": "python3"
  },
  "language_info": {
   "codemirror_mode": {
    "name": "ipython",
    "version": 3
   },
   "file_extension": ".py",
   "mimetype": "text/x-python",
   "name": "python",
   "nbconvert_exporter": "python",
   "pygments_lexer": "ipython3",
   "version": "3.11.3"
  },
  "orig_nbformat": 4
 },
 "nbformat": 4,
 "nbformat_minor": 2
}
