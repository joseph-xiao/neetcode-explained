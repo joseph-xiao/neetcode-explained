{
 "cells": [
  {
   "attachments": {},
   "cell_type": "markdown",
   "metadata": {},
   "source": [
    "[Car Fleet](https://leetcode.com/problems/car-fleet/)\n",
    "\n",
    "There are `n` cars going to the same destination along a one-lane road. The destination is `target` miles away.\n",
    "\n",
    "You are given two integer array `position` and `speed`, both of length `n`, where `position[i]` is the position of the <code>i<sup>th</sup></code> car and `speed[i]` is the speed of the <code>i<sup>th</sup></code> car (in miles per hour).\n",
    "\n",
    "A car can never pass another car ahead of it, but it can catch up to it and drive bumper to bumper **at the same speed**. The faster car will **slow down** to match the slower car's speed. The distance between these two cars is ignored (i.e., they are assumed to have the same position).\n",
    "\n",
    "A **car fleet** is some non-empty set of cars driving at the same position and same speed. Note that a single car is also a car fleet.\n",
    "\n",
    "If a car catches up to a car fleet right at the destination point, it will still be considered as one car fleet.\n",
    "\n",
    "Return the **number of car fleets** that will arrive at the destination.\n",
    "\n",
    "Example 1:\n",
    "\n",
    "```\n",
    "Input: target = 12, position = [10,8,0,5,3], speed = [2,4,1,1,3]\n",
    "Output: 3\n",
    "Explanation:\n",
    "The cars starting at 10 (speed 2) and 8 (speed 4) become a fleet, meeting each other at 12.\n",
    "The car starting at 0 does not catch up to any other car, so it is a fleet by itself.\n",
    "The cars starting at 5 (speed 1) and 3 (speed 3) become a fleet, meeting each other at 6. The fleet moves at speed 1 until it reaches target.\n",
    "Note that no other cars meet these fleets before the destination, so the answer is 3.\n",
    "```\n",
    "\n",
    "Example 2:\n",
    "\n",
    "```\n",
    "Input: target = 10, position = [3], speed = [3]\n",
    "Output: 1\n",
    "Explanation: There is only one car, hence there is only one fleet.\n",
    "```\n",
    "\n",
    "Example 3:\n",
    "\n",
    "```\n",
    "Input: target = 100, position = [0,2,4], speed = [4,2,1]\n",
    "Output: 1\n",
    "Explanation:\n",
    "The cars starting at 0 (speed 4) and 2 (speed 2) become a fleet, meeting each other at 4. The fleet moves at speed 2.\n",
    "Then, the fleet (speed 2) and the car starting at 4 (speed 1) become one fleet, meeting each other at 6. The fleet moves at speed 1 until it reaches target.\n",
    "```\n",
    "\n",
    "Constraints:\n",
    "\n",
    "- `n == position.length == speed.length`\n",
    "- <code>1 <= n <= 10<sup>5</sup></code>\n",
    "- <code>0 < target <= 10<sup>6</sup></code>\n",
    "- `0 <= position[i] < target`\n",
    "- All the values of position are **unique**.\n",
    "- <code>0 < speed[i] <= 10<sup>6</sup></code>\n"
   ]
  },
  {
   "attachments": {},
   "cell_type": "markdown",
   "metadata": {},
   "source": [
    "[Video Solution](https://www.youtube.com/watch?v=Pr6T-3yB9RM)\n"
   ]
  },
  {
   "cell_type": "code",
   "execution_count": 1,
   "metadata": {},
   "outputs": [],
   "source": [
    "class Solution:\n",
    "\n",
    "  def carFleet(self, target: int, position: list[int], speed: list[int]) -> int:\n",
    "    pair = [(p, s) for p, s in zip(position, speed)]\n",
    "    pair.sort(reverse=True)\n",
    "    stack = []\n",
    "    for p, s in pair:  # Reverse Sorted Order\n",
    "      stack.append((target - p) / s)\n",
    "      if len(stack) >= 2 and stack[-1] <= stack[-2]:\n",
    "        stack.pop()\n",
    "    return len(stack)\n"
   ]
  },
  {
   "cell_type": "code",
   "execution_count": null,
   "metadata": {},
   "outputs": [],
   "source": [
    "test = Solution()\n",
    "\n",
    "print(\n",
    "    test.carFleet(target=12, position=[10, 8, 0, 5, 3], speed=[2, 4, 1, 1, 3]))\n",
    "# 3\n",
    "\n",
    "print(test.carFleet(target=10, position=[3], speed=[3]))\n",
    "# 1\n",
    "\n",
    "print(test.carFleet(target=100, position=[0, 2, 4], speed=[4, 2, 1]))\n",
    "# 1\n"
   ]
  }
 ],
 "metadata": {
  "kernelspec": {
   "display_name": "Python 3",
   "language": "python",
   "name": "python3"
  },
  "language_info": {
   "codemirror_mode": {
    "name": "ipython",
    "version": 3
   },
   "file_extension": ".py",
   "mimetype": "text/x-python",
   "name": "python",
   "nbconvert_exporter": "python",
   "pygments_lexer": "ipython3",
   "version": "3.11.3"
  },
  "orig_nbformat": 4
 },
 "nbformat": 4,
 "nbformat_minor": 2
}
