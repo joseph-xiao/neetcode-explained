{
 "cells": [
  {
   "attachments": {},
   "cell_type": "markdown",
   "metadata": {},
   "source": [
    "[Binary Search](https://leetcode.com/problems/binary-search/)\n",
    "\n",
    "Given an array of integers `nums` which is sorted in ascending order, and an integer `target`, write a function to search `target` in `nums`. If `target` exists, then return its index. Otherwise, return `-1`.\n",
    "\n",
    "You must write an algorithm with `O(log n)` runtime complexity.\n",
    "\n",
    "Example 1:\n",
    "\n",
    "```\n",
    "Input: nums = [-1,0,3,5,9,12], target = 9\n",
    "Output: 4\n",
    "Explanation: 9 exists in nums and its index is 4\n",
    "```\n",
    "\n",
    "Example 2:\n",
    "\n",
    "```\n",
    "Input: nums = [-1,0,3,5,9,12], target = 2\n",
    "Output: -1\n",
    "Explanation: 2 does not exist in nums so return -1\n",
    "```\n",
    "\n",
    "Constraints:\n",
    "\n",
    "- <code>1 <= nums.length <= 10<sup>4</sup></code>\n",
    "- <code>-10<sup>4</sup> < nums[i], target < 10<sup>4</sup></code>\n",
    "- All the integers in nums are **unique**.\n",
    "- `nums` is sorted in ascending order.\n"
   ]
  },
  {
   "attachments": {},
   "cell_type": "markdown",
   "metadata": {},
   "source": [
    "[Video Solution](https://www.youtube.com/watch?v=s4DPM8ct1pI)\n"
   ]
  },
  {
   "cell_type": "code",
   "execution_count": 1,
   "metadata": {},
   "outputs": [],
   "source": [
    "class Solution:\n",
    "\n",
    "  def search(self, nums: list[int], target: int) -> int:\n",
    "    l, r = 0, len(nums) - 1\n",
    "\n",
    "    while l <= r:\n",
    "      m = l + ((r - l) // 2)  # (l + r) // 2 can lead to overflow\n",
    "      if nums[m] > target:\n",
    "        r = m - 1\n",
    "      elif nums[m] < target:\n",
    "        l = m + 1\n",
    "      else:\n",
    "        return m\n",
    "    return -1\n"
   ]
  },
  {
   "cell_type": "code",
   "execution_count": null,
   "metadata": {},
   "outputs": [],
   "source": [
    "test = Solution()\n",
    "\n",
    "print(test.search(nums=[-1, 0, 3, 5, 9, 12], target=9))\n",
    "# 4\n",
    "\n",
    "print(test.search(nums=[-1, 0, 3, 5, 9, 12], target=2))\n",
    "# -1\n"
   ]
  }
 ],
 "metadata": {
  "kernelspec": {
   "display_name": "Python 3",
   "language": "python",
   "name": "python3"
  },
  "language_info": {
   "codemirror_mode": {
    "name": "ipython",
    "version": 3
   },
   "file_extension": ".py",
   "mimetype": "text/x-python",
   "name": "python",
   "nbconvert_exporter": "python",
   "pygments_lexer": "ipython3",
   "version": "3.11.3"
  },
  "orig_nbformat": 4
 },
 "nbformat": 4,
 "nbformat_minor": 2
}
