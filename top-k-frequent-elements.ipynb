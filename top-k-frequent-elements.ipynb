{
 "cells": [
  {
   "attachments": {},
   "cell_type": "markdown",
   "metadata": {},
   "source": [
    "[Top K Frequent Elements](https://leetcode.com/problems/top-k-frequent-elements/)\n",
    "\n",
    "Given an integer array `nums` and an integer `k`, return the `k` most frequent elements. You may return the answer in **any order**.\n",
    "\n",
    "Example 1:\n",
    "\n",
    "```\n",
    "Input: nums = [1,1,1,2,2,3], k = 2\n",
    "Output: [1,2]\n",
    "```\n",
    "\n",
    "Example 2:\n",
    "\n",
    "```\n",
    "Input: nums = [1], k = 1\n",
    "Output: [1]\n",
    "```\n",
    "\n",
    "Constraints:\n",
    "\n",
    "- <code>1 <= nums.length <= 10<sup>5</sup></code>\n",
    "- <code>-10<sup>4</sup> <= nums[i] <= 10<sup>4</sup></code>\n",
    "- `k` is in the range `[1, the number of unique elements in the array]`.\n",
    "- It is **guaranteed** that the answer is **unique**.\n"
   ]
  },
  {
   "attachments": {},
   "cell_type": "markdown",
   "metadata": {},
   "source": [
    "[Video Solution](https://www.youtube.com/watch?v=YPTqKIgVk-k)\n"
   ]
  },
  {
   "cell_type": "code",
   "execution_count": 1,
   "metadata": {},
   "outputs": [],
   "source": [
    "class Solution:\n",
    "\n",
    "  def topKFrequent(self, nums: list[int], k: int) -> list[int] | None:\n",
    "    count = {}\n",
    "    freq = [[] for i in range(len(nums) + 1)]\n",
    "\n",
    "    for n in nums:\n",
    "      count[n] = 1 + count.get(n, 0)\n",
    "\n",
    "    for n, c in count.items():\n",
    "      freq[c].append(n)\n",
    "\n",
    "    res = []\n",
    "    for i in range(len(freq) - 1, 0, -1):\n",
    "      for n in freq[i]:\n",
    "        res.append(n)\n",
    "\n",
    "        if len(res) == k:\n",
    "          return res\n"
   ]
  },
  {
   "cell_type": "code",
   "execution_count": null,
   "metadata": {},
   "outputs": [],
   "source": [
    "test = Solution()\n",
    "\n",
    "print(test.topKFrequent(nums=[1, 1, 1, 2, 2, 3], k=2))  # [1,2]\n",
    "\n",
    "print(test.topKFrequent(nums=[1], k=1))  # [1]\n"
   ]
  }
 ],
 "metadata": {
  "kernelspec": {
   "display_name": "Python 3",
   "language": "python",
   "name": "python3"
  },
  "language_info": {
   "codemirror_mode": {
    "name": "ipython",
    "version": 3
   },
   "file_extension": ".py",
   "mimetype": "text/x-python",
   "name": "python",
   "nbconvert_exporter": "python",
   "pygments_lexer": "ipython3",
   "version": "3.11.3"
  },
  "orig_nbformat": 4
 },
 "nbformat": 4,
 "nbformat_minor": 2
}
