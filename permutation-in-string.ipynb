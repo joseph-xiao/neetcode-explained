{
 "cells": [
  {
   "attachments": {},
   "cell_type": "markdown",
   "metadata": {},
   "source": [
    "[Permutation in String](https://leetcode.com/problems/permutation-in-string/)\n",
    "\n",
    "Given two strings `s1` and `s2`, return `true` if `s2` contains a permutation of `s1`, or `false` otherwise.\n",
    "\n",
    "In other words, return `true` if one of `s1`'s permutations is the substring of `s2`.\n",
    "\n",
    "Example 1:\n",
    "\n",
    "```\n",
    "Input: s1 = \"ab\", s2 = \"eidbaooo\"\n",
    "Output: true\n",
    "Explanation: s2 contains one permutation of s1 (\"ba\").\n",
    "```\n",
    "\n",
    "Example 2:\n",
    "\n",
    "```\n",
    "Input: s1 = \"ab\", s2 = \"eidboaoo\"\n",
    "Output: false\n",
    "```\n",
    "\n",
    "Constraints:\n",
    "\n",
    "- <code>1 <= s1.length, s2.length <= 10<sup>4</sup></code>\n",
    "- `s1` and `s2` consist of lowercase English letters.\n"
   ]
  },
  {
   "attachments": {},
   "cell_type": "markdown",
   "metadata": {},
   "source": [
    "[Video Solution](https://www.youtube.com/watch?v=UbyhOgBN834)\n"
   ]
  },
  {
   "cell_type": "code",
   "execution_count": 1,
   "metadata": {},
   "outputs": [],
   "source": [
    "class Solution:\n",
    "\n",
    "  def checkInclusion(self, s1: str, s2: str) -> bool:\n",
    "    if len(s1) > len(s2):\n",
    "      return False\n",
    "\n",
    "    s1Count, s2Count = [0] * 26, [0] * 26\n",
    "    for i in range(len(s1)):\n",
    "      s1Count[ord(s1[i]) - ord(\"a\")] += 1\n",
    "      s2Count[ord(s2[i]) - ord(\"a\")] += 1\n",
    "\n",
    "    matches = 0\n",
    "    for i in range(26):\n",
    "      matches += 1 if s1Count[i] == s2Count[i] else 0\n",
    "\n",
    "    l = 0\n",
    "    for r in range(len(s1), len(s2)):\n",
    "      if matches == 26:\n",
    "        return True\n",
    "\n",
    "      index = ord(s2[r]) - ord(\"a\")\n",
    "      s2Count[index] += 1\n",
    "      if s1Count[index] == s2Count[index]:\n",
    "        matches += 1\n",
    "      elif s1Count[index] + 1 == s2Count[index]:\n",
    "        matches -= 1\n",
    "\n",
    "      index = ord(s2[l]) - ord(\"a\")\n",
    "      s2Count[index] -= 1\n",
    "      if s1Count[index] == s2Count[index]:\n",
    "        matches += 1\n",
    "      elif s1Count[index] - 1 == s2Count[index]:\n",
    "        matches -= 1\n",
    "      l += 1\n",
    "    return matches == 26\n"
   ]
  },
  {
   "cell_type": "code",
   "execution_count": null,
   "metadata": {},
   "outputs": [],
   "source": [
    "test = Solution()\n",
    "\n",
    "print(test.checkInclusion(s1=\"ab\", s2=\"eidbaooo\"))  # True\n",
    "\n",
    "print(test.checkInclusion(s1=\"ab\", s2=\"eidboaoo\"))  # False\n"
   ]
  }
 ],
 "metadata": {
  "kernelspec": {
   "display_name": "Python 3",
   "language": "python",
   "name": "python3"
  },
  "language_info": {
   "codemirror_mode": {
    "name": "ipython",
    "version": 3
   },
   "file_extension": ".py",
   "mimetype": "text/x-python",
   "name": "python",
   "nbconvert_exporter": "python",
   "pygments_lexer": "ipython3",
   "version": "3.11.3"
  },
  "orig_nbformat": 4
 },
 "nbformat": 4,
 "nbformat_minor": 2
}
