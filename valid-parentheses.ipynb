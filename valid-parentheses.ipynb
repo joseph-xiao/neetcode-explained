{
 "cells": [
  {
   "attachments": {},
   "cell_type": "markdown",
   "metadata": {},
   "source": [
    "[Valid Parentheses](https://leetcode.com/problems/valid-parentheses/)\n",
    "\n",
    "Given a string `s` containing just the characters `'('`, `')'`, `'{'`, `'}'`, `'['` and `']'`, determine if the input string is valid.\n",
    "\n",
    "An input string is valid if:\n",
    "\n",
    "Open brackets must be closed by the same type of brackets.\n",
    "\n",
    "Open brackets must be closed in the correct order.\n",
    "\n",
    "Every close bracket has a corresponding open bracket of the same type.\n",
    "\n",
    "Example 1:\n",
    "\n",
    "```\n",
    "Input: s = \"()\"\n",
    "Output: true\n",
    "```\n",
    "\n",
    "Example 2:\n",
    "\n",
    "```\n",
    "Input: s = \"()[]{}\"\n",
    "Output: true\n",
    "```\n",
    "\n",
    "Example 3:\n",
    "\n",
    "```\n",
    "Input: s = \"(]\"\n",
    "Output: false\n",
    "```\n",
    "\n",
    "Constraints:\n",
    "\n",
    "- <code>1 <= s.length <= 10<sup>4</sup></code>\n",
    "- `s` consists of parentheses only `'()[]{}'`.\n"
   ]
  },
  {
   "attachments": {},
   "cell_type": "markdown",
   "metadata": {},
   "source": [
    "[Video Solution](https://www.youtube.com/watch?v=WTzjTskDFMg)\n"
   ]
  },
  {
   "cell_type": "code",
   "execution_count": 1,
   "metadata": {},
   "outputs": [],
   "source": [
    "class Solution:\n",
    "\n",
    "  def isValid(self, s: str) -> bool:\n",
    "    Map = {\")\": \"(\", \"]\": \"[\", \"}\": \"{\"}\n",
    "    stack = []\n",
    "\n",
    "    for c in s:\n",
    "      if c not in Map:\n",
    "        stack.append(c)\n",
    "        continue\n",
    "      if not stack or stack[-1] != Map[c]:\n",
    "        return False\n",
    "      stack.pop()\n",
    "\n",
    "    return not stack\n"
   ]
  },
  {
   "cell_type": "code",
   "execution_count": null,
   "metadata": {},
   "outputs": [],
   "source": [
    "test = Solution()\n",
    "\n",
    "print(test.isValid(s=\"()\"))  # True\n",
    "\n",
    "print(test.isValid(s=\"()[]{}\"))  # True\n",
    "\n",
    "print(test.isValid(s=\"(]\"))  # False\n"
   ]
  }
 ],
 "metadata": {
  "kernelspec": {
   "display_name": "Python 3",
   "language": "python",
   "name": "python3"
  },
  "language_info": {
   "codemirror_mode": {
    "name": "ipython",
    "version": 3
   },
   "file_extension": ".py",
   "mimetype": "text/x-python",
   "name": "python",
   "nbconvert_exporter": "python",
   "pygments_lexer": "ipython3",
   "version": "3.11.3"
  },
  "orig_nbformat": 4
 },
 "nbformat": 4,
 "nbformat_minor": 2
}
