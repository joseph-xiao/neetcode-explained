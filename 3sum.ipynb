{
 "cells": [
  {
   "attachments": {},
   "cell_type": "markdown",
   "metadata": {},
   "source": [
    "[3Sum](https://leetcode.com/problems/3sum/)\n",
    "\n",
    "Given an integer array nums, return all the triplets `[nums[i], nums[j], nums[k]]` such that `i != j`, `i != k`, and `j != k`, and `nums[i] + nums[j] + nums[k] == 0`.\n",
    "\n",
    "Notice that the solution set must not contain duplicate triplets.\n",
    "\n",
    "Example 1:\n",
    "\n",
    "```\n",
    "Input: nums = [-1,0,1,2,-1,-4]\n",
    "Output: [[-1,-1,2],[-1,0,1]]\n",
    "Explanation:\n",
    "nums[0] + nums[1] + nums[2] = (-1) + 0 + 1 = 0.\n",
    "nums[1] + nums[2] + nums[4] = 0 + 1 + (-1) = 0.\n",
    "nums[0] + nums[3] + nums[4] = (-1) + 2 + (-1) = 0.\n",
    "The distinct triplets are [-1,0,1] and [-1,-1,2].\n",
    "Notice that the order of the output and the order of the triplets does not matter.\n",
    "```\n",
    "\n",
    "Example 2:\n",
    "\n",
    "```\n",
    "Input: nums = [0,1,1]\n",
    "Output: []\n",
    "Explanation: The only possible triplet does not sum up to 0.\n",
    "```\n",
    "\n",
    "Example 3:\n",
    "\n",
    "```\n",
    "Input: nums = [0,0,0]\n",
    "Output: [[0,0,0]]\n",
    "Explanation: The only possible triplet sums up to 0.\n",
    "```\n",
    "\n",
    "Constraints:\n",
    "\n",
    "- `3 <= nums.length <= 3000`\n",
    "- <code>-10<sup>5</sup> <= nums[i] <= 10<sup>5</sup></code>\n"
   ]
  },
  {
   "attachments": {},
   "cell_type": "markdown",
   "metadata": {},
   "source": [
    "[Solution](https://www.youtube.com/watch?v=jzZsG8n2R9A)\n"
   ]
  },
  {
   "cell_type": "code",
   "execution_count": 2,
   "metadata": {},
   "outputs": [],
   "source": [
    "class Solution:\n",
    "\n",
    "  def ThreeSum(self, nums: list[int]) -> list[list[int]]:\n",
    "    \"\"\"\n",
    "      :type integers: List[int]\n",
    "      :rtype: List[List[int]]\n",
    "    \"\"\"\n",
    "\n",
    "    integers = nums\n",
    "    integers.sort()\n",
    "    result = []\n",
    "\n",
    "    for index in range(len(integers)):\n",
    "      if integers[index] > 0:\n",
    "        break\n",
    "      if index > 0 and integers[index] == integers[index - 1]:\n",
    "        continue\n",
    "      left, right = index + 1, len(integers) - 1\n",
    "      while left < right:\n",
    "        if integers[left] + integers[right] < 0 - integers[index]:\n",
    "          left += 1\n",
    "        elif integers[left] + integers[right] > 0 - integers[index]:\n",
    "          right -= 1\n",
    "        else:\n",
    "          result.append(\n",
    "              [integers[index], integers[left], integers[right]]\n",
    "          )  # After a triplet is appended, we try our best to incease the numeric value of its first element or that of its second.\n",
    "          left += 1  # The other pairs and the one we were just looking at are either duplicates or smaller than the target.\n",
    "          right -= 1  # The other pairs are either duplicates or greater than the target.\n",
    "          # We must move on if there is less than or equal to one integer in between the two integers.\n",
    "          while integers[left] == integers[left - 1] and left < right:\n",
    "            left += 1  # The pairs are either duplicates or smaller than the target.\n",
    "\n",
    "    return result\n"
   ]
  },
  {
   "cell_type": "code",
   "execution_count": null,
   "metadata": {},
   "outputs": [],
   "source": [
    "test = Solution()\n",
    "\n",
    "print(test.ThreeSum(nums=[-1, 0, 1, 2, -1, -4]))  # [[-1,-1,2],[-1,0,1]]\n",
    "\n",
    "print(test.ThreeSum(nums=[0, 1, 1]))  # []\n",
    "\n",
    "print(test.ThreeSum(nums=[0, 0, 0]))  # [[0,0,0]]\n"
   ]
  }
 ],
 "metadata": {
  "kernelspec": {
   "display_name": "Python 3",
   "language": "python",
   "name": "python3"
  },
  "language_info": {
   "codemirror_mode": {
    "name": "ipython",
    "version": 3
   },
   "file_extension": ".py",
   "mimetype": "text/x-python",
   "name": "python",
   "nbconvert_exporter": "python",
   "pygments_lexer": "ipython3",
   "version": "3.11.3"
  },
  "orig_nbformat": 4
 },
 "nbformat": 4,
 "nbformat_minor": 2
}
