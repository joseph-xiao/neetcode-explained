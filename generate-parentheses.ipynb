{
 "cells": [
  {
   "attachments": {},
   "cell_type": "markdown",
   "metadata": {},
   "source": [
    "[Generate Parentheses](https://leetcode.com/problems/generate-parentheses/)\n",
    "\n",
    "Given `n` pairs of parentheses, write a function to generate all combinations of well-formed parentheses.\n",
    "\n",
    "Example 1:\n",
    "\n",
    "```\n",
    "Input: n = 3\n",
    "Output: [\"((()))\",\"(()())\",\"(())()\",\"()(())\",\"()()()\"]\n",
    "```\n",
    "\n",
    "Example 2:\n",
    "\n",
    "```\n",
    "Input: n = 1\n",
    "Output: [\"()\"]\n",
    "```\n",
    "\n",
    "Constraints:\n",
    "\n",
    "- `1 <= n <= 8`\n"
   ]
  },
  {
   "attachments": {},
   "cell_type": "markdown",
   "metadata": {},
   "source": [
    "[Video Solution](https://www.youtube.com/watch?v=s9fokUqJ76A)\n"
   ]
  },
  {
   "cell_type": "code",
   "execution_count": 1,
   "metadata": {},
   "outputs": [],
   "source": [
    "class Solution:\n",
    "\n",
    "  def generateParenthesis(self, n: int) -> list[str]:\n",
    "    stack = []\n",
    "    res = []\n",
    "\n",
    "    def backtrack(openN, closedN):\n",
    "      if openN == closedN == n:\n",
    "        res.append(\"\".join(stack))\n",
    "        return\n",
    "\n",
    "      if openN < n:\n",
    "        stack.append(\"(\")\n",
    "        backtrack(openN + 1, closedN)\n",
    "        stack.pop()\n",
    "      if closedN < openN:\n",
    "        stack.append(\")\")\n",
    "        backtrack(openN, closedN + 1)\n",
    "        stack.pop()\n",
    "\n",
    "    backtrack(0, 0)\n",
    "\n",
    "    return res\n"
   ]
  },
  {
   "cell_type": "code",
   "execution_count": null,
   "metadata": {},
   "outputs": [],
   "source": [
    "test = Solution()\n",
    "\n",
    "print(test.generateParenthesis(n=3))\n",
    "# [\"((()))\",\"(()())\",\"(())()\",\"()(())\",\"()()()\"]\n",
    "\n",
    "print(test.generateParenthesis(n=1))\n",
    "# [\"()\"]\n"
   ]
  }
 ],
 "metadata": {
  "kernelspec": {
   "display_name": "Python 3",
   "language": "python",
   "name": "python3"
  },
  "language_info": {
   "codemirror_mode": {
    "name": "ipython",
    "version": 3
   },
   "file_extension": ".py",
   "mimetype": "text/x-python",
   "name": "python",
   "nbconvert_exporter": "python",
   "pygments_lexer": "ipython3",
   "version": "3.11.3"
  },
  "orig_nbformat": 4
 },
 "nbformat": 4,
 "nbformat_minor": 2
}
