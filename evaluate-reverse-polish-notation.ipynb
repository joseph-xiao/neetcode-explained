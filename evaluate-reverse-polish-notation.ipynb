{
 "cells": [
  {
   "attachments": {},
   "cell_type": "markdown",
   "metadata": {},
   "source": [
    "[Evaluate Reverse Polish Notation](https://leetcode.com/problems/evaluate-reverse-polish-notation/)\n",
    "\n",
    "You are given an array of strings tokens that represents an arithmetic expression in a [Reverse Polish Notation](http://en.wikipedia.org/wiki/Reverse_Polish_notation).\n",
    "\n",
    "Evaluate the expression. Return an integer that represents the value of the expression.\n",
    "\n",
    "Note that:\n",
    "\n",
    "- The valid operators are `'+'`, `'-'`, `'*'`, and `'/'`.\n",
    "- Each operand may be an integer or another expression.\n",
    "- The division between two integers always **truncates toward zero**.\n",
    "- There will not be any division by zero.\n",
    "- The input represents a valid arithmetic expression in a reverse polish notation.\n",
    "- The answer and all the intermediate calculations can be represented in a **32-bit** integer.\n",
    "\n",
    "Example 1:\n",
    "\n",
    "```\n",
    "Input: tokens = [\"2\",\"1\",\"+\",\"3\",\"*\"]\n",
    "Output: 9\n",
    "Explanation: ((2 + 1) * 3) = 9\n",
    "```\n",
    "\n",
    "Example 2:\n",
    "\n",
    "```\n",
    "Input: tokens = [\"4\",\"13\",\"5\",\"/\",\"+\"]\n",
    "Output: 6\n",
    "Explanation: (4 + (13 / 5)) = 6\n",
    "```\n",
    "\n",
    "Example 3:\n",
    "\n",
    "```\n",
    "Input: tokens = [\"10\",\"6\",\"9\",\"3\",\"+\",\"-11\",\"*\",\"/\",\"*\",\"17\",\"+\",\"5\",\"+\"]\n",
    "Output: 22\n",
    "Explanation: ((10 * (6 / ((9 + 3) * -11))) + 17) + 5\n",
    "= ((10 * (6 / (12 * -11))) + 17) + 5\n",
    "= ((10 * (6 / -132)) + 17) + 5\n",
    "= ((10 * 0) + 17) + 5\n",
    "= (0 + 17) + 5\n",
    "= 17 + 5\n",
    "= 22\n",
    "```\n",
    "\n",
    "Constraints:\n",
    "\n",
    "- <code>1 <= tokens.length <= 10<sup>4</sup></code>\n",
    "- `tokens[i]` is either an operator: `\"+\"`, `\"-\"`, `\"*\"`, or `\"/\"`, or an integer in the range `[-200, 200]`.\n"
   ]
  },
  {
   "attachments": {},
   "cell_type": "markdown",
   "metadata": {},
   "source": [
    "[Video Solution](https://www.youtube.com/watch?v=iu0082c4HDE)\n"
   ]
  },
  {
   "cell_type": "code",
   "execution_count": 1,
   "metadata": {},
   "outputs": [],
   "source": [
    "class Solution:\n",
    "\n",
    "  def evalRPN(self, tokens: list[str]) -> int:\n",
    "    stack = []\n",
    "    for c in tokens:\n",
    "      if c == \"+\":\n",
    "        stack.append(stack.pop() + stack.pop())\n",
    "      elif c == \"-\":\n",
    "        a, b = stack.pop(), stack.pop()\n",
    "        stack.append(b - a)\n",
    "      elif c == \"*\":\n",
    "        stack.append(stack.pop() * stack.pop())\n",
    "      elif c == \"/\":\n",
    "        a, b = stack.pop(), stack.pop()\n",
    "        stack.append(int(b / a))\n",
    "      else:\n",
    "        stack.append(int(c))\n",
    "    return stack[0]\n"
   ]
  },
  {
   "cell_type": "code",
   "execution_count": null,
   "metadata": {},
   "outputs": [],
   "source": [
    "test = Solution()\n",
    "\n",
    "print(test.evalRPN([\"2\", \"1\", \"+\", \"3\", \"*\"]))  # 9\n",
    "\n",
    "print(test.evalRPN([\"4\", \"13\", \"5\", \"/\", \"+\"]))  # 6\n",
    "\n",
    "print(\n",
    "    test.evalRPN(\n",
    "        [\"10\", \"6\", \"9\", \"3\", \"+\", \"-11\", \"*\", \"/\", \"*\", \"17\", \"+\", \"5\",\n",
    "         \"+\"]))  # 22\n"
   ]
  }
 ],
 "metadata": {
  "kernelspec": {
   "display_name": "Python 3",
   "language": "python",
   "name": "python3"
  },
  "language_info": {
   "codemirror_mode": {
    "name": "ipython",
    "version": 3
   },
   "file_extension": ".py",
   "mimetype": "text/x-python",
   "name": "python",
   "nbconvert_exporter": "python",
   "pygments_lexer": "ipython3",
   "version": "3.11.3"
  },
  "orig_nbformat": 4
 },
 "nbformat": 4,
 "nbformat_minor": 2
}
