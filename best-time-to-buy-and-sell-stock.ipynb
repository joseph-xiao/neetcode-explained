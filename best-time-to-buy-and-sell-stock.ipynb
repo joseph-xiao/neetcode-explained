{
 "cells": [
  {
   "attachments": {},
   "cell_type": "markdown",
   "metadata": {},
   "source": [
    "[Best Time to Buy and Sell Stock](https://leetcode.com/problems/best-time-to-buy-and-sell-stock/)\n",
    "\n",
    "You are given an array `prices` where `prices[i]` is the price of a given stock on the <code>i<sup>th</sup></code> day.\n",
    "\n",
    "You want to maximize your profit by choosing a single day to buy one stock and choosing a different day in the future to sell that stock.\n",
    "\n",
    "Return the maximum profit you can achieve from this transaction. If you cannot achieve any profit, return `0`.\n",
    "\n",
    "Example 1:\n",
    "\n",
    "```\n",
    "Input: prices = [7,1,5,3,6,4]\n",
    "Output: 5\n",
    "Explanation: Buy on day 2 (price = 1) and sell on day 5 (price = 6), profit = 6-1 = 5.\n",
    "Note that buying on day 2 and selling on day 1 is not allowed because you must buy before you sell.\n",
    "```\n",
    "\n",
    "Example 2:\n",
    "\n",
    "```\n",
    "Input: prices = [7,6,4,3,1]\n",
    "Output: 0\n",
    "Explanation: In this case, no transactions are done and the max profit = 0.\n",
    "```\n",
    "\n",
    "Constraints:\n",
    "\n",
    "- <code>1 <= prices.length <= 10<sup>5</sup></code>\n",
    "- <code>0 <= prices[i] <= 10<sup>4</sup></code>\n"
   ]
  },
  {
   "attachments": {},
   "cell_type": "markdown",
   "metadata": {},
   "source": [
    "[Video Solution](https://www.youtube.com/watch?v=1pkOgXD63yU)\n"
   ]
  },
  {
   "cell_type": "code",
   "execution_count": 1,
   "metadata": {},
   "outputs": [],
   "source": [
    "class Solution:\n",
    "\n",
    "  def maxProfit(self, prices: list[int]) -> int:\n",
    "    res = 0\n",
    "\n",
    "    lowest = prices[0]\n",
    "\n",
    "    for price in prices:\n",
    "      if price < lowest:\n",
    "        lowest = price\n",
    "      res = max(res, price - lowest)\n",
    "\n",
    "    return res\n"
   ]
  },
  {
   "cell_type": "code",
   "execution_count": null,
   "metadata": {},
   "outputs": [],
   "source": [
    "test = Solution()\n",
    "\n",
    "print(test.maxProfit(prices=[7, 1, 5, 3, 6, 4]))  # 5\n",
    "\n",
    "print(test.maxProfit(prices=[7, 6, 4, 3, 1]))  # 0\n"
   ]
  }
 ],
 "metadata": {
  "kernelspec": {
   "display_name": "Python 3",
   "language": "python",
   "name": "python3"
  },
  "language_info": {
   "codemirror_mode": {
    "name": "ipython",
    "version": 3
   },
   "file_extension": ".py",
   "mimetype": "text/x-python",
   "name": "python",
   "nbconvert_exporter": "python",
   "pygments_lexer": "ipython3",
   "version": "3.11.3"
  },
  "orig_nbformat": 4
 },
 "nbformat": 4,
 "nbformat_minor": 2
}
