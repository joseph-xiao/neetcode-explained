{
 "cells": [
  {
   "attachments": {},
   "cell_type": "markdown",
   "metadata": {},
   "source": [
    "[Longest Substring Without Repeating Characters](https://leetcode.com/problems/longest-substring-without-repeating-characters/)\n",
    "\n",
    "Given a string `s`, find the length of the **longest substring** without repeating characters.\n",
    "\n",
    "A **substring** is a contiguous non-empty sequence of characters within a string.\n",
    "\n",
    "Example 1:\n",
    "\n",
    "```\n",
    "Input: s = \"abcabcbb\"\n",
    "Output: 3\n",
    "Explanation: The answer is \"abc\", with the length of 3.\n",
    "```\n",
    "\n",
    "Example 2:\n",
    "\n",
    "```\n",
    "Input: s = \"bbbbb\"\n",
    "Output: 1\n",
    "Explanation: The answer is \"b\", with the length of 1.\n",
    "```\n",
    "\n",
    "Example 3:\n",
    "\n",
    "```\n",
    "Input: s = \"pwwkew\"\n",
    "Output: 3\n",
    "Explanation: The answer is \"wke\", with the length of 3.\n",
    "Notice that the answer must be a substring, \"pwke\" is a subsequence and not a substring.\n",
    "```\n",
    "\n",
    "Constraints:\n",
    "\n",
    "- <code>0 <= s.length <= 5 \\* 10<sup>4</sup></code>\n",
    "- `s` consists of English letters, digits, symbols and spaces.\n"
   ]
  },
  {
   "attachments": {},
   "cell_type": "markdown",
   "metadata": {},
   "source": [
    "[Video Solution](https://www.youtube.com/watch?v=wiGpQwVHdE0)\n"
   ]
  },
  {
   "cell_type": "code",
   "execution_count": 1,
   "metadata": {},
   "outputs": [],
   "source": [
    "class Solution:\n",
    "\n",
    "  def lengthOfLongestSubstring(self, s: str) -> int:\n",
    "    charSet = set()\n",
    "    l = 0\n",
    "    res = 0\n",
    "\n",
    "    for r in range(len(s)):\n",
    "      while s[r] in charSet:\n",
    "        charSet.remove(s[l])\n",
    "        l += 1\n",
    "      charSet.add(s[r])\n",
    "      res = max(res, r - l + 1)\n",
    "\n",
    "    return res\n"
   ]
  },
  {
   "cell_type": "code",
   "execution_count": null,
   "metadata": {},
   "outputs": [],
   "source": [
    "test = Solution()\n",
    "\n",
    "print(test.lengthOfLongestSubstring(s=\"abcabcbb\"))  # 3\n",
    "\n",
    "print(test.lengthOfLongestSubstring(s=\"bbbbb\"))  # 1\n",
    "\n",
    "print(test.lengthOfLongestSubstring(s=\"pwwkew\"))  # 3\n"
   ]
  }
 ],
 "metadata": {
  "kernelspec": {
   "display_name": "Python 3",
   "language": "python",
   "name": "python3"
  },
  "language_info": {
   "codemirror_mode": {
    "name": "ipython",
    "version": 3
   },
   "file_extension": ".py",
   "mimetype": "text/x-python",
   "name": "python",
   "nbconvert_exporter": "python",
   "pygments_lexer": "ipython3",
   "version": "3.11.3"
  },
  "orig_nbformat": 4
 },
 "nbformat": 4,
 "nbformat_minor": 2
}
