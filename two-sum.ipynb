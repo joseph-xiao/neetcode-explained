{
 "cells": [
  {
   "attachments": {},
   "cell_type": "markdown",
   "metadata": {},
   "source": [
    "[Two Sum](https://leetcode.com/problems/two-sum/)\n",
    "\n",
    "Given an array of integers `nums` and an integer `target`, return indices of the two numbers such that they add up to `target`.\n",
    "\n",
    "You may assume that each input would have **exactly one solution**, and you may not use the same element twice.\n",
    "\n",
    "You can return the answer in any order.\n",
    "\n",
    "Example 1:\n",
    "\n",
    "```\n",
    "Input: nums = [2,7,11,15], target = 9\n",
    "Output: [0,1]\n",
    "Explanation: Because nums[0] + nums[1] == 9, we return [0, 1].\n",
    "```\n",
    "\n",
    "Example 2:\n",
    "\n",
    "```\n",
    "Input: nums = [3,2,4], target = 6\n",
    "Output: [1,2]\n",
    "```\n",
    "\n",
    "Example 3:\n",
    "\n",
    "```\n",
    "Input: nums = [3,3], target = 6\n",
    "Output: [0,1]\n",
    "```\n",
    "\n",
    "Constraints:\n",
    "\n",
    "- <code>2 <= nums.length <= 10<sup>4</sup></code>\n",
    "- <code>-10<sup>9</sup> <= nums[i] <= 10<sup>9</sup></code>\n",
    "- <code>-10<sup>9</sup> <= target <= 10<sup>9</sup></code>\n",
    "- **Only one valid answer exists.**\n"
   ]
  },
  {
   "attachments": {},
   "cell_type": "markdown",
   "metadata": {},
   "source": [
    "[Video Solution](https://www.youtube.com/watch?v=KLlXCFG5TnA)\n"
   ]
  },
  {
   "cell_type": "code",
   "execution_count": 1,
   "metadata": {},
   "outputs": [],
   "source": [
    "class Solution:\n",
    "\n",
    "  def twoSum(self, nums: list[int], target: int) -> list[int] | None:\n",
    "    prevMap = {}  # val -> index\n",
    "\n",
    "    for i, n in enumerate(nums):\n",
    "      diff = target - n\n",
    "\n",
    "      if diff in prevMap:\n",
    "        return [prevMap[diff], i]\n",
    "\n",
    "      prevMap[n] = i\n"
   ]
  },
  {
   "cell_type": "code",
   "execution_count": null,
   "metadata": {},
   "outputs": [],
   "source": [
    "test = Solution()\n",
    "\n",
    "print(test.twoSum(nums=[2, 7, 11, 15], target=9))\n",
    "# [0,1] Because nums[0] + nums[1] == 9, we return [0, 1]\n",
    "\n",
    "print(test.twoSum(nums=[3, 2, 4], target=6))\n",
    "# [1,2]\n",
    "\n",
    "print(test.twoSum(nums=[3, 3], target=6))\n",
    "# [0,1]\n"
   ]
  }
 ],
 "metadata": {
  "kernelspec": {
   "display_name": "Python 3",
   "language": "python",
   "name": "python3"
  },
  "language_info": {
   "codemirror_mode": {
    "name": "ipython",
    "version": 3
   },
   "file_extension": ".py",
   "mimetype": "text/x-python",
   "name": "python",
   "nbconvert_exporter": "python",
   "pygments_lexer": "ipython3",
   "version": "3.11.3"
  },
  "orig_nbformat": 4
 },
 "nbformat": 4,
 "nbformat_minor": 2
}
